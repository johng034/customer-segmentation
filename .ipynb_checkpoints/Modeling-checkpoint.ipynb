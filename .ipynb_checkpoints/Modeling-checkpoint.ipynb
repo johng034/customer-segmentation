{
 "cells": [
  {
   "cell_type": "code",
   "execution_count": 1,
   "metadata": {},
   "outputs": [],
   "source": [
    "import pandas as pd"
   ]
  },
  {
   "cell_type": "code",
   "execution_count": 2,
   "metadata": {},
   "outputs": [],
   "source": [
    "df = pd.read_pickle('./df.pkl')"
   ]
  },
  {
   "cell_type": "code",
   "execution_count": 3,
   "metadata": {},
   "outputs": [
    {
     "data": {
      "text/html": [
       "<div>\n",
       "<style scoped>\n",
       "    .dataframe tbody tr th:only-of-type {\n",
       "        vertical-align: middle;\n",
       "    }\n",
       "\n",
       "    .dataframe tbody tr th {\n",
       "        vertical-align: top;\n",
       "    }\n",
       "\n",
       "    .dataframe thead th {\n",
       "        text-align: right;\n",
       "    }\n",
       "</style>\n",
       "<table border=\"1\" class=\"dataframe\">\n",
       "  <thead>\n",
       "    <tr style=\"text-align: right;\">\n",
       "      <th></th>\n",
       "      <th>Age</th>\n",
       "      <th>Simplified_Education</th>\n",
       "      <th>Relationship_Status</th>\n",
       "      <th>Income</th>\n",
       "      <th>Num_children</th>\n",
       "      <th>Has_child</th>\n",
       "      <th>years_joined</th>\n",
       "      <th>Total</th>\n",
       "    </tr>\n",
       "  </thead>\n",
       "  <tbody>\n",
       "    <tr>\n",
       "      <th>0</th>\n",
       "      <td>64</td>\n",
       "      <td>Postgraduate</td>\n",
       "      <td>Alone</td>\n",
       "      <td>58138</td>\n",
       "      <td>0</td>\n",
       "      <td>False</td>\n",
       "      <td>9.060</td>\n",
       "      <td>1617</td>\n",
       "    </tr>\n",
       "    <tr>\n",
       "      <th>1</th>\n",
       "      <td>67</td>\n",
       "      <td>Postgraduate</td>\n",
       "      <td>Alone</td>\n",
       "      <td>46344</td>\n",
       "      <td>2</td>\n",
       "      <td>True</td>\n",
       "      <td>7.553</td>\n",
       "      <td>27</td>\n",
       "    </tr>\n",
       "    <tr>\n",
       "      <th>2</th>\n",
       "      <td>56</td>\n",
       "      <td>Postgraduate</td>\n",
       "      <td>In couple</td>\n",
       "      <td>71613</td>\n",
       "      <td>0</td>\n",
       "      <td>False</td>\n",
       "      <td>8.099</td>\n",
       "      <td>776</td>\n",
       "    </tr>\n",
       "    <tr>\n",
       "      <th>3</th>\n",
       "      <td>37</td>\n",
       "      <td>Postgraduate</td>\n",
       "      <td>In couple</td>\n",
       "      <td>26646</td>\n",
       "      <td>1</td>\n",
       "      <td>True</td>\n",
       "      <td>7.625</td>\n",
       "      <td>53</td>\n",
       "    </tr>\n",
       "    <tr>\n",
       "      <th>4</th>\n",
       "      <td>40</td>\n",
       "      <td>Postgraduate</td>\n",
       "      <td>In couple</td>\n",
       "      <td>58293</td>\n",
       "      <td>1</td>\n",
       "      <td>True</td>\n",
       "      <td>7.685</td>\n",
       "      <td>422</td>\n",
       "    </tr>\n",
       "  </tbody>\n",
       "</table>\n",
       "</div>"
      ],
      "text/plain": [
       "   Age Simplified_Education Relationship_Status  Income  Num_children  \\\n",
       "0   64         Postgraduate               Alone   58138             0   \n",
       "1   67         Postgraduate               Alone   46344             2   \n",
       "2   56         Postgraduate           In couple   71613             0   \n",
       "3   37         Postgraduate           In couple   26646             1   \n",
       "4   40         Postgraduate           In couple   58293             1   \n",
       "\n",
       "   Has_child  years_joined  Total  \n",
       "0      False         9.060   1617  \n",
       "1       True         7.553     27  \n",
       "2      False         8.099    776  \n",
       "3       True         7.625     53  \n",
       "4       True         7.685    422  "
      ]
     },
     "execution_count": 3,
     "metadata": {},
     "output_type": "execute_result"
    }
   ],
   "source": [
    "df.head()"
   ]
  },
  {
   "cell_type": "code",
   "execution_count": null,
   "metadata": {},
   "outputs": [],
   "source": []
  }
 ],
 "metadata": {
  "kernelspec": {
   "display_name": "Python 3",
   "language": "python",
   "name": "python3"
  },
  "language_info": {
   "codemirror_mode": {
    "name": "ipython",
    "version": 3
   },
   "file_extension": ".py",
   "mimetype": "text/x-python",
   "name": "python",
   "nbconvert_exporter": "python",
   "pygments_lexer": "ipython3",
   "version": "3.7.0"
  }
 },
 "nbformat": 4,
 "nbformat_minor": 2
}
